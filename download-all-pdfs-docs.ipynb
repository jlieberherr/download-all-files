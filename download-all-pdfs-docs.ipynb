{
 "cells": [
  {
   "cell_type": "code",
   "execution_count": null,
   "id": "e49ae7f0-1f44-441e-971d-ae666e970ae0",
   "metadata": {},
   "outputs": [],
   "source": [
    "import os\n",
    "import requests\n",
    "from urllib.parse import urljoin\n",
    "from bs4\n",
    "import BeautifulSoup"
   ]
  },
  {
   "cell_type": "code",
   "execution_count": null,
   "id": "c0f5ff11-6aa3-4a53-9496-ae5a7b88f779",
   "metadata": {},
   "outputs": [],
   "source": [
    "url = \"TODO{}\""
   ]
  },
  {
   "cell_type": "code",
   "execution_count": null,
   "id": "205acd75-e468-4b31-a40c-06ebfcaf2137",
   "metadata": {},
   "outputs": [],
   "source": [
    "out_folder = r\"TODO\""
   ]
  },
  {
   "cell_type": "code",
   "execution_count": null,
   "id": "545e5aaa-38a8-4831-b22c-6084308b0def",
   "metadata": {},
   "outputs": [],
   "source": [
    "session = requests.Session()"
   ]
  },
  {
   "cell_type": "code",
   "execution_count": null,
   "id": "105a431f-b7c6-4a43-8724-4b02e69ca2e4",
   "metadata": {},
   "outputs": [],
   "source": [
    "session.cookies\n",
    "cookies = {\n",
    "    \"JSESSIONID\": \"TODO\"\n",
    "}\n",
    "session.cookies.update(cookies)"
   ]
  },
  {
   "cell_type": "code",
   "execution_count": null,
   "id": "e97119d4-4a47-4d88-b4e8-65c4b07ea6bb",
   "metadata": {},
   "outputs": [],
   "source": [
    "def download_files(page_url, ind):\n",
    "    response = session.get(page_url)\n",
    "    soup = BeautifulSoup(response.content, 'html.parser')\n",
    "    title_node = soup.find(\"h2\", {\"class\": \"item-title-unselectable\"})\n",
    "    title = title_node.text.replace(\"\\n\", \"\").replace(\"\\t\", \"\")\n",
    "    new_folder = f\"{ind:03}_{title}\"\n",
    "    print(f\"downloading into {new_folder}\")\n",
    "    if not os.path.exists(new_folder):\n",
    "        os.makedirs(os.path.join(out_folder, new_folder))\n",
    "    for link in soup.select(\"a[href$='.doc'], a[href$='.pdf'], a[href$='.docx'], a[href$='.xlsx'], a[href$='.xls'], a[href$='.pptx'], a[href$='.ppt']\"):\n",
    "        fn = \"{}\".format(link['href'].split('/')[-1])\n",
    "        filename = os.path.join(out_folder, new_folder, fn)\n",
    "        with open(filename, 'wb') as f:\n",
    "            f.write(session.get(urljoin(page_url, link['href'])).content)\n",
    "        print(f\"   {fn} downloaded\")"
   ]
  },
  {
   "cell_type": "code",
   "execution_count": null,
   "id": "67dcae20-4770-4fd8-910c-9a961cc35af5",
   "metadata": {},
   "outputs": [],
   "source": [
    "ind = 1\n",
    "for p in range(1, 23):\n",
    "    print(p)\n",
    "    url_p = url.format(p)\n",
    "    response = session.get(url_p)\n",
    "    soup = BeautifulSoup(response.content, 'html.parser')\n",
    "    for div_element in soup.find_all(\"div\", {\"class\": \"thumbfade\"}):\n",
    "        a_tag = div_element.find('a')\n",
    "        href_value = a_tag['href']\n",
    "        page_url = \"{}{}\".format(\"https://download.stark-verlag.de\", href_value)\n",
    "        download_files(page_url, ind)\n",
    "        ind += 1"
   ]
  }
 ],
 "metadata": {
  "kernelspec": {
   "display_name": "Python 3 (ipykernel)",
   "language": "python",
   "name": "python3"
  },
  "language_info": {
   "codemirror_mode": {
    "name": "ipython",
    "version": 3
   },
   "file_extension": ".py",
   "mimetype": "text/x-python",
   "name": "python",
   "nbconvert_exporter": "python",
   "pygments_lexer": "ipython3",
   "version": "3.8.1"
  }
 },
 "nbformat": 4,
 "nbformat_minor": 5
}
