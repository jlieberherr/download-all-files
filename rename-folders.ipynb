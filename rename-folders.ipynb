{
 "cells": [
  {
   "cell_type": "code",
   "execution_count": 2,
   "id": "b8e710ae-b24f-4cdb-b7a4-ad7e3975a483",
   "metadata": {},
   "outputs": [],
   "source": [
    "import os"
   ]
  },
  {
   "cell_type": "code",
   "execution_count": 1,
   "id": "d25969bb-8dc1-4562-a607-e92ec66c6279",
   "metadata": {},
   "outputs": [],
   "source": [
    "folder = r\"D:\\dev\\download-all-files\\download\""
   ]
  },
  {
   "cell_type": "code",
   "execution_count": 8,
   "id": "cb443cfb-a941-484c-a76e-224f24568558",
   "metadata": {},
   "outputs": [],
   "source": [
    "subdirs = [x[0] for x in os.walk(folder)]"
   ]
  },
  {
   "cell_type": "code",
   "execution_count": 10,
   "id": "cfd6fd5d-0510-4ebe-9cd4-b5ee9b024baf",
   "metadata": {},
   "outputs": [],
   "source": [
    "for f in [x[0] for x in os.walk(folder)]:\n",
    "    f_new = f.replace(\"–\", \"-\")\n",
    "    os.rename(f, f_new)"
   ]
  }
 ],
 "metadata": {
  "kernelspec": {
   "display_name": "Python 3 (ipykernel)",
   "language": "python",
   "name": "python3"
  },
  "language_info": {
   "codemirror_mode": {
    "name": "ipython",
    "version": 3
   },
   "file_extension": ".py",
   "mimetype": "text/x-python",
   "name": "python",
   "nbconvert_exporter": "python",
   "pygments_lexer": "ipython3",
   "version": "3.8.1"
  }
 },
 "nbformat": 4,
 "nbformat_minor": 5
}
